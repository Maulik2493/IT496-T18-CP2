{
 "cells": [
  {
   "cell_type": "markdown",
   "metadata": {},
   "source": [
    "# Introduction\n",
    "\n",
    "The given dataset contains the metadata of the books from **bookdepository.com**. The detailed information of the attributes is provided below.\n",
    "- **authors** : list of authors\n",
    "- bestseller-rank : Bestseller ranking\n",
    "- categories : List of all categories (genres)\n",
    "- description : Description(string)\n",
    "- dimension-x : Dimension along x axis (float in cms)\n",
    "- dimension-y : Dimension along y axis (float in cms)\n",
    "- dimension-z : Dimension along z axis (float in cms)\n",
    "- edition : Edition (string)\n",
    "- edition-statement : Edition statement (string)\n",
    "- for-ages : Ranges of ages \n",
    "- format : Format \n",
    "- id : Unique Identifier\n",
    "- illustration-note\n",
    "- image-checksum : Cover Image checksum\n",
    "- image-path : Cover image file path\n",
    "- image-url : Cover image url\n",
    "- imprint\n",
    "- index-date : Crawling date \n",
    "- isbn10 : ISBN-10\n",
    "- isbn13 : ISBN-13 \n",
    "- lang : List of languages of book\n",
    "- publication-date : Publication date\n",
    "- publication-place : Publication place\n",
    "- rating-avg : Rating average (0-5)\n",
    "- rating-count : Number of ratings \n",
    "- title : Book's title \n",
    "- url : Relative URL (https://bookdepository.com + url)\n",
    "- weight : Weight of book in KG"
   ]
  },
  {
   "cell_type": "markdown",
   "metadata": {},
   "source": [
    "EDA"
   ]
  },
  {
   "cell_type": "code",
   "execution_count": 1,
   "metadata": {},
   "outputs": [],
   "source": [
    "import pandas as pd\n",
    "\n",
    "# Load the dataset\n",
    "data_main = pd.read_csv(\"D:\\\\data minning\\\\data_books\\\\dataset.csv\")\n",
    "data_a = pd.read_csv(\"D:\\\\data minning\\\\data_books\\\\authors.csv\")\n",
    "data_c = pd.read_csv(\"D:\\\\data minning\\\\data_books\\\\categories.csv\")\n",
    "data_f = pd.read_csv(\"D:\\\\data minning\\\\data_books\\\\formats.csv\")\n",
    "data_p = pd.read_csv(\"D:\\\\data minning\\\\data_books\\\\places.csv\")\n"
   ]
  },
  {
   "cell_type": "code",
   "execution_count": 2,
   "metadata": {},
   "outputs": [
    {
     "data": {
      "text/plain": [
       "Index(['authors', 'bestsellers-rank', 'categories', 'description',\n",
       "       'dimension-x', 'dimension-y', 'dimension-z', 'edition',\n",
       "       'edition-statement', 'for-ages', 'format', 'book_id',\n",
       "       'illustrations-note', 'image-checksum', 'image-path', 'image-url',\n",
       "       'imprint', 'index-date', 'isbn10', 'isbn13', 'lang', 'publication-date',\n",
       "       'publication-place', 'rating-avg', 'rating-count', 'title', 'url',\n",
       "       'weight'],\n",
       "      dtype='object')"
      ]
     },
     "execution_count": 2,
     "metadata": {},
     "output_type": "execute_result"
    }
   ],
   "source": [
    "import pandas as pd \n",
    "import math\n",
    "import numpy as np\n",
    "import matplotlib.pyplot as plt\n",
    "import seaborn as sns \n",
    "\n",
    "data_main.rename(columns={'id' : 'book_id'} , inplace=True)\n",
    "data_main.columns\n"
   ]
  },
  {
   "cell_type": "code",
   "execution_count": 3,
   "metadata": {},
   "outputs": [
    {
     "data": {
      "text/html": [
       "<div>\n",
       "<style scoped>\n",
       "    .dataframe tbody tr th:only-of-type {\n",
       "        vertical-align: middle;\n",
       "    }\n",
       "\n",
       "    .dataframe tbody tr th {\n",
       "        vertical-align: top;\n",
       "    }\n",
       "\n",
       "    .dataframe thead th {\n",
       "        text-align: right;\n",
       "    }\n",
       "</style>\n",
       "<table border=\"1\" class=\"dataframe\">\n",
       "  <thead>\n",
       "    <tr style=\"text-align: right;\">\n",
       "      <th></th>\n",
       "      <th>authors</th>\n",
       "      <th>bestsellers-rank</th>\n",
       "      <th>categories</th>\n",
       "      <th>description</th>\n",
       "      <th>dimension-x</th>\n",
       "      <th>dimension-y</th>\n",
       "      <th>dimension-z</th>\n",
       "      <th>edition</th>\n",
       "      <th>edition-statement</th>\n",
       "      <th>for-ages</th>\n",
       "      <th>...</th>\n",
       "      <th>isbn10</th>\n",
       "      <th>isbn13</th>\n",
       "      <th>lang</th>\n",
       "      <th>publication-date</th>\n",
       "      <th>publication-place</th>\n",
       "      <th>rating-avg</th>\n",
       "      <th>rating-count</th>\n",
       "      <th>title</th>\n",
       "      <th>url</th>\n",
       "      <th>weight</th>\n",
       "    </tr>\n",
       "  </thead>\n",
       "  <tbody>\n",
       "    <tr>\n",
       "      <th>0</th>\n",
       "      <td>[1]</td>\n",
       "      <td>49848.0</td>\n",
       "      <td>[214, 220, 237, 2646, 2647, 2659, 2660, 2679]</td>\n",
       "      <td>SOLDIER FIVE is an elite soldier's explosive m...</td>\n",
       "      <td>129.0</td>\n",
       "      <td>198.0</td>\n",
       "      <td>20.0</td>\n",
       "      <td>NaN</td>\n",
       "      <td>NaN</td>\n",
       "      <td>NaN</td>\n",
       "      <td>...</td>\n",
       "      <td>184018907X</td>\n",
       "      <td>9781840189070</td>\n",
       "      <td>en</td>\n",
       "      <td>2004-10-14 00:00:00</td>\n",
       "      <td>NaN</td>\n",
       "      <td>4.03</td>\n",
       "      <td>292.0</td>\n",
       "      <td>Soldier Five : The Real Truth About The Bravo ...</td>\n",
       "      <td>/Soldier-Five-Mike-Coburn/9781840189070</td>\n",
       "      <td>224.00</td>\n",
       "    </tr>\n",
       "    <tr>\n",
       "      <th>1</th>\n",
       "      <td>[2, 3]</td>\n",
       "      <td>115215.0</td>\n",
       "      <td>[235, 3386]</td>\n",
       "      <td>John Moran and Carl Williams were the two bigg...</td>\n",
       "      <td>127.0</td>\n",
       "      <td>203.2</td>\n",
       "      <td>25.4</td>\n",
       "      <td>NaN</td>\n",
       "      <td>NaN</td>\n",
       "      <td>NaN</td>\n",
       "      <td>...</td>\n",
       "      <td>184454737X</td>\n",
       "      <td>9781844547371</td>\n",
       "      <td>en</td>\n",
       "      <td>2009-03-13 00:00:00</td>\n",
       "      <td>NaN</td>\n",
       "      <td>3.60</td>\n",
       "      <td>335.0</td>\n",
       "      <td>Underbelly : The Gangland War</td>\n",
       "      <td>/Underbelly-Andrew-Rule/9781844547371</td>\n",
       "      <td>285.76</td>\n",
       "    </tr>\n",
       "    <tr>\n",
       "      <th>2</th>\n",
       "      <td>[4]</td>\n",
       "      <td>11732.0</td>\n",
       "      <td>[358, 2630, 360, 2632]</td>\n",
       "      <td>Sir Phillip knew that Eloise Bridgerton was a ...</td>\n",
       "      <td>150.0</td>\n",
       "      <td>224.0</td>\n",
       "      <td>28.0</td>\n",
       "      <td>New edition</td>\n",
       "      <td>NaN</td>\n",
       "      <td>NaN</td>\n",
       "      <td>...</td>\n",
       "      <td>8416327866</td>\n",
       "      <td>9788416327867</td>\n",
       "      <td>es</td>\n",
       "      <td>2020-04-30 00:00:00</td>\n",
       "      <td>NaN</td>\n",
       "      <td>3.88</td>\n",
       "      <td>37211.0</td>\n",
       "      <td>A Sir Phillip, Con Amor</td>\n",
       "      <td>/Sir-Phillip-Con-Amor-Julia-Quinn/9788416327867</td>\n",
       "      <td>386.00</td>\n",
       "    </tr>\n",
       "    <tr>\n",
       "      <th>3</th>\n",
       "      <td>[5, 6, 7, 8]</td>\n",
       "      <td>114379.0</td>\n",
       "      <td>[377, 2978, 2980]</td>\n",
       "      <td>The Third Book of General Ignorance  gathers t...</td>\n",
       "      <td>153.0</td>\n",
       "      <td>234.0</td>\n",
       "      <td>24.0</td>\n",
       "      <td>NaN</td>\n",
       "      <td>Export - Airside ed</td>\n",
       "      <td>NaN</td>\n",
       "      <td>...</td>\n",
       "      <td>571308996</td>\n",
       "      <td>9780571308996</td>\n",
       "      <td>en</td>\n",
       "      <td>2015-10-01 00:00:00</td>\n",
       "      <td>NaN</td>\n",
       "      <td>4.17</td>\n",
       "      <td>384.0</td>\n",
       "      <td>QI: The Third Book of General Ignorance</td>\n",
       "      <td>/QI-Third-Book-General-Ignorance-John-Lloyd/97...</td>\n",
       "      <td>436.00</td>\n",
       "    </tr>\n",
       "    <tr>\n",
       "      <th>4</th>\n",
       "      <td>[9]</td>\n",
       "      <td>98413.0</td>\n",
       "      <td>[2813, 2980]</td>\n",
       "      <td>The Try Guys deliver their first book-an inspi...</td>\n",
       "      <td>191.0</td>\n",
       "      <td>240.0</td>\n",
       "      <td>29.0</td>\n",
       "      <td>NaN</td>\n",
       "      <td>NaN</td>\n",
       "      <td>NaN</td>\n",
       "      <td>...</td>\n",
       "      <td>8352518</td>\n",
       "      <td>9780008352516</td>\n",
       "      <td>en</td>\n",
       "      <td>2019-06-18 00:00:00</td>\n",
       "      <td>NaN</td>\n",
       "      <td>3.90</td>\n",
       "      <td>5095.0</td>\n",
       "      <td>The Hidden Power of F*cking Up</td>\n",
       "      <td>/Hidden-Power-F-cking-Up-Try-Guys/9780008352516</td>\n",
       "      <td>980.00</td>\n",
       "    </tr>\n",
       "  </tbody>\n",
       "</table>\n",
       "<p>5 rows × 28 columns</p>\n",
       "</div>"
      ],
      "text/plain": [
       "        authors  bestsellers-rank  \\\n",
       "0           [1]           49848.0   \n",
       "1        [2, 3]          115215.0   \n",
       "2           [4]           11732.0   \n",
       "3  [5, 6, 7, 8]          114379.0   \n",
       "4           [9]           98413.0   \n",
       "\n",
       "                                      categories  \\\n",
       "0  [214, 220, 237, 2646, 2647, 2659, 2660, 2679]   \n",
       "1                                    [235, 3386]   \n",
       "2                         [358, 2630, 360, 2632]   \n",
       "3                              [377, 2978, 2980]   \n",
       "4                                   [2813, 2980]   \n",
       "\n",
       "                                         description  dimension-x  \\\n",
       "0  SOLDIER FIVE is an elite soldier's explosive m...        129.0   \n",
       "1  John Moran and Carl Williams were the two bigg...        127.0   \n",
       "2  Sir Phillip knew that Eloise Bridgerton was a ...        150.0   \n",
       "3  The Third Book of General Ignorance  gathers t...        153.0   \n",
       "4  The Try Guys deliver their first book-an inspi...        191.0   \n",
       "\n",
       "   dimension-y  dimension-z      edition    edition-statement for-ages  ...  \\\n",
       "0        198.0         20.0          NaN                  NaN      NaN  ...   \n",
       "1        203.2         25.4          NaN                  NaN      NaN  ...   \n",
       "2        224.0         28.0  New edition                  NaN      NaN  ...   \n",
       "3        234.0         24.0          NaN  Export - Airside ed      NaN  ...   \n",
       "4        240.0         29.0          NaN                  NaN      NaN  ...   \n",
       "\n",
       "       isbn10         isbn13 lang     publication-date publication-place  \\\n",
       "0  184018907X  9781840189070   en  2004-10-14 00:00:00               NaN   \n",
       "1  184454737X  9781844547371   en  2009-03-13 00:00:00               NaN   \n",
       "2  8416327866  9788416327867   es  2020-04-30 00:00:00               NaN   \n",
       "3   571308996  9780571308996   en  2015-10-01 00:00:00               NaN   \n",
       "4     8352518  9780008352516   en  2019-06-18 00:00:00               NaN   \n",
       "\n",
       "  rating-avg rating-count                                              title  \\\n",
       "0       4.03        292.0  Soldier Five : The Real Truth About The Bravo ...   \n",
       "1       3.60        335.0                      Underbelly : The Gangland War   \n",
       "2       3.88      37211.0                            A Sir Phillip, Con Amor   \n",
       "3       4.17        384.0            QI: The Third Book of General Ignorance   \n",
       "4       3.90       5095.0                     The Hidden Power of F*cking Up   \n",
       "\n",
       "                                                 url  weight  \n",
       "0            /Soldier-Five-Mike-Coburn/9781840189070  224.00  \n",
       "1              /Underbelly-Andrew-Rule/9781844547371  285.76  \n",
       "2    /Sir-Phillip-Con-Amor-Julia-Quinn/9788416327867  386.00  \n",
       "3  /QI-Third-Book-General-Ignorance-John-Lloyd/97...  436.00  \n",
       "4    /Hidden-Power-F-cking-Up-Try-Guys/9780008352516  980.00  \n",
       "\n",
       "[5 rows x 28 columns]"
      ]
     },
     "execution_count": 3,
     "metadata": {},
     "output_type": "execute_result"
    }
   ],
   "source": [
    "data_main.head()"
   ]
  },
  {
   "cell_type": "code",
   "execution_count": 4,
   "metadata": {},
   "outputs": [
    {
     "data": {
      "text/html": [
       "<div>\n",
       "<style scoped>\n",
       "    .dataframe tbody tr th:only-of-type {\n",
       "        vertical-align: middle;\n",
       "    }\n",
       "\n",
       "    .dataframe tbody tr th {\n",
       "        vertical-align: top;\n",
       "    }\n",
       "\n",
       "    .dataframe thead th {\n",
       "        text-align: right;\n",
       "    }\n",
       "</style>\n",
       "<table border=\"1\" class=\"dataframe\">\n",
       "  <thead>\n",
       "    <tr style=\"text-align: right;\">\n",
       "      <th></th>\n",
       "      <th>author_id</th>\n",
       "      <th>author_name</th>\n",
       "    </tr>\n",
       "  </thead>\n",
       "  <tbody>\n",
       "    <tr>\n",
       "      <th>0</th>\n",
       "      <td>9561</td>\n",
       "      <td>NaN</td>\n",
       "    </tr>\n",
       "    <tr>\n",
       "      <th>1</th>\n",
       "      <td>451324</td>\n",
       "      <td># House Press</td>\n",
       "    </tr>\n",
       "    <tr>\n",
       "      <th>2</th>\n",
       "      <td>454250</td>\n",
       "      <td># Petal Press</td>\n",
       "    </tr>\n",
       "    <tr>\n",
       "      <th>3</th>\n",
       "      <td>249724</td>\n",
       "      <td>#GARCIA MIGUELE</td>\n",
       "    </tr>\n",
       "    <tr>\n",
       "      <th>4</th>\n",
       "      <td>287710</td>\n",
       "      <td>#Worldlcass Media</td>\n",
       "    </tr>\n",
       "  </tbody>\n",
       "</table>\n",
       "</div>"
      ],
      "text/plain": [
       "   author_id        author_name\n",
       "0       9561                NaN\n",
       "1     451324      # House Press\n",
       "2     454250      # Petal Press\n",
       "3     249724    #GARCIA MIGUELE\n",
       "4     287710  #Worldlcass Media"
      ]
     },
     "execution_count": 4,
     "metadata": {},
     "output_type": "execute_result"
    }
   ],
   "source": [
    "data_a.head()"
   ]
  },
  {
   "cell_type": "code",
   "execution_count": 5,
   "metadata": {},
   "outputs": [
    {
     "data": {
      "text/html": [
       "<div>\n",
       "<style scoped>\n",
       "    .dataframe tbody tr th:only-of-type {\n",
       "        vertical-align: middle;\n",
       "    }\n",
       "\n",
       "    .dataframe tbody tr th {\n",
       "        vertical-align: top;\n",
       "    }\n",
       "\n",
       "    .dataframe thead th {\n",
       "        text-align: right;\n",
       "    }\n",
       "</style>\n",
       "<table border=\"1\" class=\"dataframe\">\n",
       "  <thead>\n",
       "    <tr style=\"text-align: right;\">\n",
       "      <th></th>\n",
       "      <th>category_id</th>\n",
       "      <th>category_name</th>\n",
       "    </tr>\n",
       "  </thead>\n",
       "  <tbody>\n",
       "    <tr>\n",
       "      <th>0</th>\n",
       "      <td>1998</td>\n",
       "      <td>.Net Programming</td>\n",
       "    </tr>\n",
       "    <tr>\n",
       "      <th>1</th>\n",
       "      <td>176</td>\n",
       "      <td>20th Century &amp; Contemporary Classical Music</td>\n",
       "    </tr>\n",
       "    <tr>\n",
       "      <th>2</th>\n",
       "      <td>3291</td>\n",
       "      <td>20th Century &amp; Contemporary Classical Music</td>\n",
       "    </tr>\n",
       "    <tr>\n",
       "      <th>3</th>\n",
       "      <td>2659</td>\n",
       "      <td>20th Century History: C 1900  To C 2000</td>\n",
       "    </tr>\n",
       "    <tr>\n",
       "      <th>4</th>\n",
       "      <td>2661</td>\n",
       "      <td>21st Century History: From C 2000 -</td>\n",
       "    </tr>\n",
       "  </tbody>\n",
       "</table>\n",
       "</div>"
      ],
      "text/plain": [
       "   category_id                                category_name\n",
       "0         1998                             .Net Programming\n",
       "1          176  20th Century & Contemporary Classical Music\n",
       "2         3291  20th Century & Contemporary Classical Music\n",
       "3         2659      20th Century History: C 1900  To C 2000\n",
       "4         2661          21st Century History: From C 2000 -"
      ]
     },
     "execution_count": 5,
     "metadata": {},
     "output_type": "execute_result"
    }
   ],
   "source": [
    "data_c.head()"
   ]
  },
  {
   "cell_type": "code",
   "execution_count": 6,
   "metadata": {},
   "outputs": [
    {
     "data": {
      "text/html": [
       "<div>\n",
       "<style scoped>\n",
       "    .dataframe tbody tr th:only-of-type {\n",
       "        vertical-align: middle;\n",
       "    }\n",
       "\n",
       "    .dataframe tbody tr th {\n",
       "        vertical-align: top;\n",
       "    }\n",
       "\n",
       "    .dataframe thead th {\n",
       "        text-align: right;\n",
       "    }\n",
       "</style>\n",
       "<table border=\"1\" class=\"dataframe\">\n",
       "  <thead>\n",
       "    <tr style=\"text-align: right;\">\n",
       "      <th></th>\n",
       "      <th>format_id</th>\n",
       "      <th>format_name</th>\n",
       "    </tr>\n",
       "  </thead>\n",
       "  <tbody>\n",
       "    <tr>\n",
       "      <th>0</th>\n",
       "      <td>21</td>\n",
       "      <td>Address</td>\n",
       "    </tr>\n",
       "    <tr>\n",
       "      <th>1</th>\n",
       "      <td>5</td>\n",
       "      <td>Audio</td>\n",
       "    </tr>\n",
       "    <tr>\n",
       "      <th>2</th>\n",
       "      <td>27</td>\n",
       "      <td>Bath</td>\n",
       "    </tr>\n",
       "    <tr>\n",
       "      <th>3</th>\n",
       "      <td>44</td>\n",
       "      <td>Big</td>\n",
       "    </tr>\n",
       "    <tr>\n",
       "      <th>4</th>\n",
       "      <td>14</td>\n",
       "      <td>Board</td>\n",
       "    </tr>\n",
       "  </tbody>\n",
       "</table>\n",
       "</div>"
      ],
      "text/plain": [
       "   format_id format_name\n",
       "0         21     Address\n",
       "1          5       Audio\n",
       "2         27        Bath\n",
       "3         44         Big\n",
       "4         14       Board"
      ]
     },
     "execution_count": 6,
     "metadata": {},
     "output_type": "execute_result"
    }
   ],
   "source": [
    "data_f.head()"
   ]
  },
  {
   "cell_type": "code",
   "execution_count": 7,
   "metadata": {},
   "outputs": [
    {
     "data": {
      "text/html": [
       "<div>\n",
       "<style scoped>\n",
       "    .dataframe tbody tr th:only-of-type {\n",
       "        vertical-align: middle;\n",
       "    }\n",
       "\n",
       "    .dataframe tbody tr th {\n",
       "        vertical-align: top;\n",
       "    }\n",
       "\n",
       "    .dataframe thead th {\n",
       "        text-align: right;\n",
       "    }\n",
       "</style>\n",
       "<table border=\"1\" class=\"dataframe\">\n",
       "  <thead>\n",
       "    <tr style=\"text-align: right;\">\n",
       "      <th></th>\n",
       "      <th>place_id</th>\n",
       "      <th>place_name</th>\n",
       "    </tr>\n",
       "  </thead>\n",
       "  <tbody>\n",
       "  </tbody>\n",
       "</table>\n",
       "</div>"
      ],
      "text/plain": [
       "Empty DataFrame\n",
       "Columns: [place_id, place_name]\n",
       "Index: []"
      ]
     },
     "execution_count": 7,
     "metadata": {},
     "output_type": "execute_result"
    }
   ],
   "source": [
    "data_p.head()"
   ]
  },
  {
   "cell_type": "code",
   "execution_count": 8,
   "metadata": {},
   "outputs": [
    {
     "data": {
      "image/png": "[encoded data removed]",
      "text/plain": [
       "<Figure size 1500x800 with 1 Axes>"
      ]
     },
     "metadata": {},
     "output_type": "display_data"
    }
   ],
   "source": [
    "plt.figure(figsize=(15, 8))\n",
    "sns.heatmap(data_main.isnull(), cbar=False, cmap='viridis')\n",
    "plt.title('Missing Data Heatmap')\n",
    "plt.show()"
   ]
  },
  {
   "cell_type": "code",
   "execution_count": 9,
   "metadata": {},
   "outputs": [
    {
     "data": {
      "text/plain": [
       "authors                     0\n",
       "bestsellers-rank       466842\n",
       "categories                  0\n",
       "description             80087\n",
       "dimension-x             48227\n",
       "dimension-y             93531\n",
       "dimension-z             48227\n",
       "edition                926569\n",
       "edition-statement      749037\n",
       "for-ages              1033390\n",
       "format                   6622\n",
       "book_id                     0\n",
       "illustrations-note     753737\n",
       "image-checksum             27\n",
       "image-path                 27\n",
       "image-url                  27\n",
       "imprint                830049\n",
       "index-date            1109383\n",
       "isbn10                      0\n",
       "isbn13                      0\n",
       "lang                    60407\n",
       "publication-date         2603\n",
       "publication-place     1109383\n",
       "rating-avg             440130\n",
       "rating-count           440130\n",
       "title                       0\n",
       "url                         0\n",
       "weight                  87173\n",
       "dtype: int64"
      ]
     },
     "execution_count": 9,
     "metadata": {},
     "output_type": "execute_result"
    }
   ],
   "source": [
    "data_main.isnull().sum()"
   ]
  },
  {
   "cell_type": "code",
   "execution_count": 10,
   "metadata": {},
   "outputs": [
    {
     "data": {
      "text/plain": [
       "authors                object\n",
       "bestsellers-rank      float64\n",
       "categories             object\n",
       "description            object\n",
       "dimension-x           float64\n",
       "dimension-y           float64\n",
       "dimension-z           float64\n",
       "edition                object\n",
       "edition-statement      object\n",
       "for-ages               object\n",
       "format                float64\n",
       "book_id                 int64\n",
       "illustrations-note     object\n",
       "image-checksum         object\n",
       "image-path             object\n",
       "image-url              object\n",
       "imprint                object\n",
       "index-date            float64\n",
       "isbn10                 object\n",
       "isbn13                  int64\n",
       "lang                   object\n",
       "publication-date       object\n",
       "publication-place     float64\n",
       "rating-avg            float64\n",
       "rating-count          float64\n",
       "title                  object\n",
       "url                    object\n",
       "weight                float64\n",
       "dtype: object"
      ]
     },
     "execution_count": 10,
     "metadata": {},
     "output_type": "execute_result"
    }
   ],
   "source": [
    "data_main.dtypes"
   ]
  },
  {
   "cell_type": "code",
   "execution_count": 11,
   "metadata": {},
   "outputs": [
    {
     "data": {
      "text/plain": [
       "category_id       int64\n",
       "category_name    object\n",
       "dtype: object"
      ]
     },
     "execution_count": 11,
     "metadata": {},
     "output_type": "execute_result"
    }
   ],
   "source": [
    "data_c.dtypes"
   ]
  },
  {
   "cell_type": "code",
   "execution_count": 12,
   "metadata": {},
   "outputs": [
    {
     "data": {
      "text/plain": [
       "author_id       int64\n",
       "author_name    object\n",
       "dtype: object"
      ]
     },
     "execution_count": 12,
     "metadata": {},
     "output_type": "execute_result"
    }
   ],
   "source": [
    "data_a.dtypes"
   ]
  },
  {
   "cell_type": "code",
   "execution_count": 13,
   "metadata": {},
   "outputs": [
    {
     "data": {
      "text/plain": [
       "format_id       int64\n",
       "format_name    object\n",
       "dtype: object"
      ]
     },
     "execution_count": 13,
     "metadata": {},
     "output_type": "execute_result"
    }
   ],
   "source": [
    "data_f.dtypes"
   ]
  },
  {
   "cell_type": "code",
   "execution_count": 14,
   "metadata": {},
   "outputs": [
    {
     "data": {
      "text/plain": [
       "place_id      object\n",
       "place_name    object\n",
       "dtype: object"
      ]
     },
     "execution_count": 14,
     "metadata": {},
     "output_type": "execute_result"
    }
   ],
   "source": [
    "data_p.dtypes"
   ]
  },
  {
   "cell_type": "markdown",
   "metadata": {},
   "source": [
    "**For the classification problem , we can classify books according to their rating avg as(high , medium , low) based on their title and description. So we will extract two attributes  title and description.**"
   ]
  },
  {
   "cell_type": "code",
   "execution_count": 15,
   "metadata": {},
   "outputs": [],
   "source": [
    "data_main= data_main.dropna(subset=['rating-avg','title','description'])"
   ]
  },
  {
   "cell_type": "code",
   "execution_count": 16,
   "metadata": {},
   "outputs": [],
   "source": [
    "import pandas as pd\n",
    "import numpy as np\n",
    "import string\n",
    "import nltk\n",
    "from nltk.corpus import stopwords"
   ]
  },
  {
   "cell_type": "code",
   "execution_count": 17,
   "metadata": {},
   "outputs": [],
   "source": [
    "# Example: Define rating categories\n",
    "def categorize_rating(rating):\n",
    "    if rating >= 4:\n",
    "        return 'high'\n",
    "    elif rating >= 3:\n",
    "        return 'medium'\n",
    "    else:\n",
    "        return 'low'\n",
    "\n",
    "data_main['rating_category'] = data_main['rating-avg'].apply(categorize_rating)\n"
   ]
  },
  {
   "cell_type": "code",
   "execution_count": 18,
   "metadata": {},
   "outputs": [
    {
     "data": {
      "image/png": "[encoded data removed]",
      "text/plain": [
       "<Figure size 640x480 with 1 Axes>"
      ]
     },
     "metadata": {},
     "output_type": "display_data"
    }
   ],
   "source": [
    "import matplotlib.pyplot as plt\n",
    "import seaborn as sns\n",
    "\n",
    "# Example: Histogram of book ratings\n",
    "plt.hist(data_main['rating-avg'], bins=20)\n",
    "plt.xlabel('Average Rating')\n",
    "plt.ylabel('Frequency')\n",
    "plt.title('Distribution of Average Ratings')\n",
    "plt.show()"
   ]
  },
  {
   "cell_type": "code",
   "execution_count": 19,
   "metadata": {},
   "outputs": [
    {
     "name": "stderr",
     "output_type": "stream",
     "text": [
      "<>:7: SyntaxWarning: invalid escape sequence '\\w'\n",
      "<>:12: SyntaxWarning: invalid escape sequence '\\w'\n",
      "<>:7: SyntaxWarning: invalid escape sequence '\\w'\n",
      "<>:12: SyntaxWarning: invalid escape sequence '\\w'\n",
      "C:\\Users\\sameer\\AppData\\Local\\Temp\\ipykernel_8688\\2392435089.py:7: SyntaxWarning: invalid escape sequence '\\w'\n",
      "  data_main['title'] = data_main['title'].str.replace('[^\\w\\s]', '')\n",
      "C:\\Users\\sameer\\AppData\\Local\\Temp\\ipykernel_8688\\2392435089.py:12: SyntaxWarning: invalid escape sequence '\\w'\n",
      "  data_main['description'] = data_main['description'].str.replace('[^\\w\\s]', '')\n"
     ]
    }
   ],
   "source": [
    "import nltk\n",
    "from nltk.corpus import stopwords\n",
    "# Text preprocessing for 'title' and 'description'\n",
    "stop_words = set(stopwords.words('english'))\n",
    "\n",
    "data_main['title'] = data_main['title'].str.lower()\n",
    "data_main['title'] = data_main['title'].str.replace('[^\\w\\s]', '')\n",
    "data_main['title'] = data_main['title'].apply(nltk.word_tokenize)\n",
    "data_main['title'] = data_main['title'].apply(lambda x: [word for word in x if word not in stop_words])\n",
    "\n",
    "data_main['description'] = data_main['description'].str.lower()\n",
    "data_main['description'] = data_main['description'].str.replace('[^\\w\\s]', '')\n",
    "data_main['description'] = data_main['description'].apply(nltk.word_tokenize)\n",
    "data_main['description'] = data_main['description'].apply(lambda x: [word for word in x if word not in stop_words])\n"
   ]
  },
  {
   "cell_type": "code",
   "execution_count": 20,
   "metadata": {},
   "outputs": [],
   "source": [
    "from sklearn.feature_extraction.text import TfidfVectorizer\n",
    "\n",
    "tfidf_vectorizer = TfidfVectorizer()\n",
    "\n",
    "title_tfidf = tfidf_vectorizer.fit_transform(data_main['title'].apply(lambda x: ' '.join(x)))\n",
    "description_tfidf = tfidf_vectorizer.fit_transform(data_main['description'].apply(lambda x: ' '.join(x)))\n"
   ]
  },
  {
   "cell_type": "code",
   "execution_count": 21,
   "metadata": {},
   "outputs": [],
   "source": [
    "from scipy.sparse import hstack\n",
    "\n",
    "X = hstack([title_tfidf, description_tfidf])"
   ]
  },
  {
   "cell_type": "code",
   "execution_count": 22,
   "metadata": {},
   "outputs": [
    {
     "name": "stdout",
     "output_type": "stream",
     "text": [
      "Accuracy: 0.6472006636842228\n"
     ]
    }
   ],
   "source": [
    "from sklearn.model_selection import train_test_split\n",
    "from sklearn.linear_model import LogisticRegression\n",
    "from sklearn.metrics import accuracy_score\n",
    "\n",
    "X_train, X_test, y_train, y_test = train_test_split(X, data_main['rating_category'], test_size=0.2, random_state=42)\n",
    "\n",
    "clf = LogisticRegression(max_iter=10000)\n",
    "clf.fit(X_train, y_train)\n",
    "\n",
    "# Make predictions\n",
    "y_pred = clf.predict(X_test)\n",
    "\n",
    "# Evaluate the model\n",
    "accuracy = accuracy_score(y_test, y_pred)\n",
    "print(f\"Accuracy: {accuracy}\")\n"
   ]
  },
  {
   "cell_type": "code",
   "execution_count": 23,
   "metadata": {},
   "outputs": [
    {
     "name": "stderr",
     "output_type": "stream",
     "text": [
      "c:\\Python312\\Lib\\site-packages\\sklearn\\model_selection\\_validation.py:425: FitFailedWarning: \n",
      "25 fits failed out of a total of 50.\n",
      "The score on these train-test partitions for these parameters will be set to nan.\n",
      "If these failures are not expected, you can try to debug them by setting error_score='raise'.\n",
      "\n",
      "Below are more details about the failures:\n",
      "--------------------------------------------------------------------------------\n",
      "25 fits failed with the following error:\n",
      "Traceback (most recent call last):\n",
      "  File \"c:\\Python312\\Lib\\site-packages\\sklearn\\model_selection\\_validation.py\", line 729, in _fit_and_score\n",
      "    estimator.fit(X_train, y_train, **fit_params)\n",
      "  File \"c:\\Python312\\Lib\\site-packages\\sklearn\\base.py\", line 1152, in wrapper\n",
      "    return fit_method(estimator, *args, **kwargs)\n",
      "           ^^^^^^^^^^^^^^^^^^^^^^^^^^^^^^^^^^^^^^\n",
      "  File \"c:\\Python312\\Lib\\site-packages\\sklearn\\linear_model\\_logistic.py\", line 1169, in fit\n",
      "    solver = _check_solver(self.solver, self.penalty, self.dual)\n",
      "             ^^^^^^^^^^^^^^^^^^^^^^^^^^^^^^^^^^^^^^^^^^^^^^^^^^^\n",
      "  File \"c:\\Python312\\Lib\\site-packages\\sklearn\\linear_model\\_logistic.py\", line 56, in _check_solver\n",
      "    raise ValueError(\n",
      "ValueError: Solver lbfgs supports only 'l2' or 'none' penalties, got l1 penalty.\n",
      "\n",
      "  warnings.warn(some_fits_failed_message, FitFailedWarning)\n",
      "c:\\Python312\\Lib\\site-packages\\sklearn\\model_selection\\_search.py:979: UserWarning: One or more of the test scores are non-finite: [       nan 0.54757668        nan 0.6112552         nan 0.63579271\n",
      "        nan 0.64074905        nan 0.63374581]\n",
      "  warnings.warn(\n"
     ]
    },
    {
     "name": "stdout",
     "output_type": "stream",
     "text": [
      "Best Hyperparameters: {'C': 1, 'penalty': 'l2'}\n",
      "Cross-Validation Scores: [0.64066059 0.64021477 0.64187205 0.64113548 0.63978484]\n",
      "Classification Report:\n",
      "               precision    recall  f1-score   support\n",
      "\n",
      "        high       0.67      0.75      0.70     70151\n",
      "         low       0.59      0.02      0.03      3359\n",
      "      medium       0.62      0.56      0.59     55467\n",
      "\n",
      "    accuracy                           0.65    128977\n",
      "   macro avg       0.62      0.44      0.44    128977\n",
      "weighted avg       0.64      0.65      0.64    128977\n",
      "\n"
     ]
    }
   ],
   "source": [
    "from sklearn.linear_model import LogisticRegression\n",
    "from sklearn.model_selection import cross_val_score, GridSearchCV\n",
    "from sklearn.metrics import classification_report\n",
    "\n",
    "# Define the logistic regression model\n",
    "clf = LogisticRegression(max_iter=1000)\n",
    "\n",
    "# Hyperparameter tuning using GridSearchCV\n",
    "param_grid = {\n",
    "    'C': [0.001, 0.01, 0.1, 1, 10],\n",
    "    'penalty': ['l1', 'l2']\n",
    "}\n",
    "\n",
    "grid_search = GridSearchCV(estimator=clf, param_grid=param_grid, cv=5, n_jobs=-1, scoring='accuracy')\n",
    "grid_search.fit(X_train, y_train)\n",
    "\n",
    "best_params = grid_search.best_params_\n",
    "\n",
    "# Train the model with the best hyperparameters\n",
    "best_clf = LogisticRegression(max_iter=1000, **best_params)\n",
    "best_clf.fit(X_train, y_train)\n",
    "\n",
    "# Model evaluation\n",
    "y_pred = best_clf.predict(X_test)\n",
    "\n",
    "# Cross-validation\n",
    "cv_scores = cross_val_score(best_clf, X_train, y_train, cv=5, scoring='accuracy')\n",
    "\n",
    "# Classification report\n",
    "classification_rep = classification_report(y_test, y_pred)\n",
    "\n",
    "print(\"Best Hyperparameters:\", best_params)\n",
    "print(\"Cross-Validation Scores:\", cv_scores)\n",
    "print(\"Classification Report:\\n\", classification_rep)\n",
    "\n"
   ]
  }
 ],
 "metadata": {
  "kernelspec": {
   "display_name": "Python 3",
   "language": "python",
   "name": "python3"
  },
  "language_info": {
   "codemirror_mode": {
    "name": "ipython",
    "version": 3
   },
   "file_extension": ".py",
   "mimetype": "text/x-python",
   "name": "python",
   "nbconvert_exporter": "python",
   "pygments_lexer": "ipython3",
   "version": "3.12.0"
  }
 },
 "nbformat": 4,
 "nbformat_minor": 2
}
